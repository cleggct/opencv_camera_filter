{
 "cells": [
  {
   "cell_type": "code",
   "execution_count": 6,
   "metadata": {},
   "outputs": [
    {
     "name": "stdout",
     "output_type": "stream",
     "text": [
      "<class 'numpy.uint8'>\n"
     ]
    }
   ],
   "source": [
    "import numpy as np\n",
    "import cv2\n",
    "from scipy.linalg import block_diag\n",
    "\n",
    "cap = cv2.VideoCapture(0)\n",
    "\n",
    "#number of brackets per color channel\n",
    "n = 16\n",
    "\n",
    "#r = 2\n",
    "\n",
    "#size of pixels... make sure it agrees with the dimensions of your frame\n",
    "l = 8\n",
    "\n",
    "ret, frame = cap.read()\n",
    "\n",
    "frame_shape = frame.shape\n",
    "\n",
    "#block = np.zeros((l,l))\n",
    "#block[0,:] = 1\n",
    "\n",
    "blocks1 = [np.ones((l,l)) for i in range(0, max(frame_shape[0]//l, frame_shape[1]//l))]\n",
    "blocks2 = [np.ones((l,l)) for i in range(0, min(frame_shape[0]//l, frame_shape[1]//l))]\n",
    "#blocks = [block for i in range(0, max(frame_shape[0]//l, frame_shape[1]//l))]\n",
    "\n",
    "block_mat1 = block_diag(*blocks1)\n",
    "block_mat2 = block_diag(*blocks2)\n",
    "\n",
    "while(True):\n",
    "                \n",
    "    # Capture frame-by-frame\n",
    "    ret, frame = cap.read()\n",
    "\n",
    "    #flip the image along the y axis\n",
    "    frame = cv2.flip(frame, 1)\n",
    "    \n",
    "    #frame = (frame.astype(float)).astype(np.uint8)\n",
    "    \n",
    "    #frame = (np.floor((frame.astype(float))/(2**n))*(2**n)).astype(np.uint8)\n",
    "    #frame = (np.floor((frame.astype(float))/(256/n))*(256/n)).astype(np.uint8)\n",
    "    \n",
    "    frame[:,:,0] = (np.matmul(frame[:,:,0],block_mat1))/l\n",
    "    frame[:,:,1] = (np.matmul(frame[:,:,1],block_mat1))/l\n",
    "    frame[:,:,2] = (np.matmul(frame[:,:,2],block_mat1))/l\n",
    "    frame[:,:,0] = (np.matmul(block_mat2,frame[:,:,0]))/l\n",
    "    frame[:,:,1] = (np.matmul(block_mat2,frame[:,:,1]))/l\n",
    "    frame[:,:,2] = (np.matmul(block_mat2,frame[:,:,2]))/l\n",
    "    \n",
    "    #new_frame = frame[::r,::r,:].astype(float)\n",
    "    \n",
    "    # Display the resulting frame\n",
    "    cv2.imshow('frame', frame)\n",
    "    if cv2.waitKey(1) & 0xFF == ord('q'):\n",
    "        break\n",
    "        \n",
    "print(type(frame[0,0,0]))\n",
    "\n",
    "# When everything done, release the capture\n",
    "cap.release()\n",
    "cv2.destroyAllWindows()"
   ]
  },
  {
   "cell_type": "code",
   "execution_count": null,
   "metadata": {},
   "outputs": [],
   "source": []
  },
  {
   "cell_type": "code",
   "execution_count": null,
   "metadata": {},
   "outputs": [],
   "source": []
  }
 ],
 "metadata": {
  "kernelspec": {
   "display_name": "Python 3",
   "language": "python",
   "name": "python3"
  },
  "language_info": {
   "codemirror_mode": {
    "name": "ipython",
    "version": 3
   },
   "file_extension": ".py",
   "mimetype": "text/x-python",
   "name": "python",
   "nbconvert_exporter": "python",
   "pygments_lexer": "ipython3",
   "version": "3.7.6"
  }
 },
 "nbformat": 4,
 "nbformat_minor": 4
}
